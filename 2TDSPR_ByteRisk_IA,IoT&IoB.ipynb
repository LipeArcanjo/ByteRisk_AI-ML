{
  "nbformat": 4,
  "nbformat_minor": 0,
  "metadata": {
    "colab": {
      "provenance": []
    },
    "kernelspec": {
      "name": "python3",
      "display_name": "Python 3"
    },
    "language_info": {
      "name": "python"
    }
  },
  "cells": [
    {
      "cell_type": "markdown",
      "source": [
        "# Disruptive Architectures: IoT, IoB & Generative AI → Sprint 3"
      ],
      "metadata": {
        "id": "4gBRJABAqkQ-"
      }
    },
    {
      "cell_type": "code",
      "source": [
        "# Importando as bibliotecas necessárias\n",
        "import pandas as pd\n",
        "import numpy as np\n",
        "import matplotlib.pyplot as plt\n",
        "import seaborn as sns\n",
        "\n",
        "from sklearn.model_selection import train_test_split, GridSearchCV\n",
        "from sklearn.ensemble import RandomForestClassifier\n",
        "from sklearn.preprocessing import LabelEncoder\n",
        "from sklearn.metrics import classification_report, confusion_matrix\n",
        "import pickle\n",
        "\n",
        "%matplotlib inline"
      ],
      "metadata": {
        "id": "q7yQzlnKsGVZ"
      },
      "execution_count": null,
      "outputs": []
    },
    {
      "cell_type": "markdown",
      "source": [
        "# 1. Criação do DataFrame com Dados Fictícios"
      ],
      "metadata": {
        "id": "NDH63Y5Gd1Ux"
      }
    },
    {
      "cell_type": "code",
      "source": [
        "data = {\n",
        "  \"tipo_plano\": [\n",
        "    \"Premium\", \"Básico\", \"Básico\", \"Premium\", \"Básico\", \"Premium\", \"Premium\", \"Básico\", \"Básico\", \"Premium\",\n",
        "    \"Básico\", \"Premium\", \"Básico\", \"Básico\", \"Premium\", \"Premium\", \"Básico\", \"Premium\", \"Básico\", \"Premium\",\n",
        "    \"Premium\", \"Básico\", \"Básico\", \"Premium\", \"Básico\", \"Premium\", \"Premium\", \"Básico\", \"Básico\", \"Premium\",\n",
        "    \"Básico\", \"Premium\", \"Básico\", \"Básico\", \"Premium\", \"Premium\", \"Básico\", \"Premium\", \"Básico\", \"Premium\",\n",
        "    \"Premium\", \"Básico\", \"Básico\", \"Premium\", \"Básico\", \"Premium\", \"Premium\", \"Básico\", \"Básico\", \"Premium\",\n",
        "    \"Básico\", \"Premium\", \"Básico\", \"Básico\", \"Premium\", \"Premium\", \"Básico\", \"Premium\", \"Básico\", \"Premium\"\n",
        "  ],\n",
        "  \"valor_mensal\": [\n",
        "    100.0, 250.0, 250.0, 100.0, 100.0, 250.0, 250.0, 100.0, 100.0, 250.0,\n",
        "    100.0, 250.0, 100.0, 100.0, 250.0, 250.0, 100.0, 250.0, 100.0, 250.0,\n",
        "    100.0, 250.0, 250.0, 100.0, 100.0, 250.0, 250.0, 100.0, 100.0, 250.0,\n",
        "    100.0, 250.0, 100.0, 100.0, 250.0, 250.0, 100.0, 250.0, 100.0, 250.0,\n",
        "    100.0, 250.0, 250.0, 100.0, 100.0, 250.0, 250.0, 100.0, 100.0, 250.0,\n",
        "    100.0, 250.0, 100.0, 100.0, 250.0, 250.0, 100.0, 250.0, 100.0, 250.0\n",
        "  ],\n",
        "  \"idade\": [\n",
        "    25, 45, 32, 28, 50, 40, 37, 29, 55, 30,\n",
        "    60, 35, 40, 38, 45, 42, 27, 36, 52, 39,\n",
        "    25, 45, 32, 28, 50, 40, 37, 29, 55, 30,\n",
        "    60, 35, 40, 38, 45, 42, 27, 36, 52, 39,\n",
        "    25, 45, 32, 28, 50, 40, 37, 29, 55, 30,\n",
        "    60, 35, 40, 38, 45, 42, 27, 36, 52, 39\n",
        "  ],\n",
        "  \"num_sinistros\": [\n",
        "    0, 3, 2, 0, 4, 1, 0, 3, 5, 2,\n",
        "    4, 1, 3, 0, 2, 4, 1, 0, 4, 1,\n",
        "    0, 3, 2, 0, 4, 1, 0, 3, 5, 2,\n",
        "    4, 1, 3, 0, 2, 4, 1, 0, 4, 1,\n",
        "    0, 3, 2, 0, 4, 1, 0, 3, 5, 2,\n",
        "    4, 1, 3, 0, 2, 4, 1, 0, 4, 1\n",
        "  ],\n",
        "  \"valor_total_sinistros\": [\n",
        "    0.0, 1200.0, 800.0, 0.0, 1600.0, 500.0, 0.0, 900.0, 2000.0, 700.0,\n",
        "    1800.0, 400.0, 1500.0, 0.0, 800.0, 1600.0, 300.0, 0.0, 1700.0, 450.0,\n",
        "    0.0, 1200.0, 800.0, 0.0, 1600.0, 500.0, 0.0, 900.0, 2000.0, 700.0,\n",
        "    1800.0, 400.0, 1500.0, 0.0, 800.0, 1600.0, 300.0, 0.0, 1700.0, 450.0,\n",
        "    0.0, 1200.0, 800.0, 0.0, 1600.0, 500.0, 0.0, 900.0, 2000.0, 700.0,\n",
        "    1800.0, 400.0, 1500.0, 0.0, 800.0, 1600.0, 300.0, 0.0, 1700.0, 450.0\n",
        "  ],\n",
        "  \"num_consultas\": [\n",
        "    2, 5, 3, 1, 6, 2, 4, 5, 6, 3,\n",
        "    6, 3, 4, 2, 5, 6, 2, 4, 6, 3,\n",
        "    2, 5, 3, 1, 6, 2, 4, 5, 6, 3,\n",
        "    6, 3, 4, 2, 5, 6, 2, 4, 6, 3,\n",
        "    2, 5, 3, 1, 6, 2, 4, 5, 6, 3,\n",
        "    6, 3, 4, 2, 5, 6, 2, 4, 6, 3\n",
        "  ],\n",
        "  \"num_exames\": [\n",
        "    1, 4, 2, 1, 5, 3, 2, 3, 5, 2,\n",
        "    5, 3, 4, 2, 3, 5, 2, 2, 5, 3,\n",
        "    1, 4, 2, 1, 5, 3, 2, 3, 5, 2,\n",
        "    5, 3, 4, 2, 3, 5, 2, 2, 5, 3,\n",
        "    1, 4, 2, 1, 5, 3, 2, 3, 5, 2,\n",
        "    5, 3, 4, 2, 3, 5, 2, 2, 5, 3\n",
        "  ],\n",
        "  \"ranking\": [\n",
        "    \"S\", \"F\", \"E\", \"S\", \"F\", \"D\", \"B\", \"E\", \"F\", \"D\",\n",
        "    \"F\", \"C\", \"E\", \"B\", \"D\", \"F\", \"C\", \"A\", \"F\", \"C\",\n",
        "    \"S\", \"F\", \"E\", \"S\", \"F\", \"D\", \"B\", \"E\", \"F\", \"D\",\n",
        "    \"F\", \"C\", \"E\", \"B\", \"D\", \"F\", \"C\", \"A\", \"F\", \"C\",\n",
        "    \"S\", \"F\", \"E\", \"S\", \"F\", \"D\", \"B\", \"E\", \"F\", \"D\",\n",
        "    \"F\", \"C\", \"E\", \"B\", \"D\", \"F\", \"C\", \"A\", \"F\", \"C\"\n",
        "  ]\n",
        "}"
      ],
      "metadata": {
        "id": "Ut01gHf7sJBq"
      },
      "execution_count": null,
      "outputs": []
    },
    {
      "cell_type": "code",
      "source": [
        "# Criando o DataFrame\n",
        "df = pd.DataFrame(data)"
      ],
      "metadata": {
        "id": "ddR68QRAsKWr"
      },
      "execution_count": null,
      "outputs": []
    },
    {
      "cell_type": "markdown",
      "source": [
        "## 2. Transformação dos Dados\n",
        "\n",
        "Utilizamos o LabelEncoder para transformar uma variável \"String\" em numérica!\n",
        "A variável `tipo_plano` será convertida para que o modelo de machine learning consiga processá-la."
      ],
      "metadata": {
        "id": "Ifp8Nd9hyfFX"
      }
    },
    {
      "cell_type": "code",
      "source": [
        "# Convertendo variáveis categóricas em números\n",
        "label_encoder = LabelEncoder()\n",
        "df['tipo_plano'] = label_encoder.fit_transform(df['tipo_plano'])\n",
        "df['ranking'] = label_encoder.fit_transform(df['ranking'])"
      ],
      "metadata": {
        "id": "-0_bS6jpsLkc"
      },
      "execution_count": null,
      "outputs": []
    },
    {
      "cell_type": "code",
      "source": [
        "# Separando as variáveis de entrada (X) e a variável alvo (y)\n",
        "X = df[['tipo_plano', 'valor_mensal', 'idade', 'num_sinistros', 'valor_total_sinistros', 'num_consultas', 'num_exames']]\n",
        "y = df['ranking']"
      ],
      "metadata": {
        "id": "tYVp7ZV5sMmE"
      },
      "execution_count": null,
      "outputs": []
    },
    {
      "cell_type": "markdown",
      "source": [
        "## 3. Treinamento e teste do modelo\n",
        "\n",
        "Dividimos os dados em conjuntos de treino e teste e treinamos o modelo `RandomForestClassifier` do Scikit-Learn.\n",
        "Este modelo é adequado para classificação e irá nos permitir uma boa performance na previsão dos rankings de risco."
      ],
      "metadata": {
        "id": "wM7WwkB3yzKL"
      }
    },
    {
      "cell_type": "code",
      "source": [
        "# Dividindo os dados em conjuntos de treino e teste\n",
        "X_train, X_test, y_train, y_test = train_test_split(X, y, test_size=0.35, random_state=42)"
      ],
      "metadata": {
        "id": "pkhH-dnKsOTN"
      },
      "execution_count": null,
      "outputs": []
    },
    {
      "cell_type": "code",
      "source": [
        "# Utilizando um modelo de Random Forest para classificação\n",
        "model = RandomForestClassifier(random_state=42)\n",
        "model.fit(X_train, y_train)"
      ],
      "metadata": {
        "colab": {
          "base_uri": "https://localhost:8080/",
          "height": 81
        },
        "id": "wmSzvsvFsPwe",
        "outputId": "2b31d1c7-b252-409c-cc7d-e88555b7fef0"
      },
      "execution_count": null,
      "outputs": [
        {
          "output_type": "execute_result",
          "data": {
            "text/plain": [
              "RandomForestClassifier(random_state=42)"
            ],
            "text/html": [
              "<style>#sk-container-id-1 {\n",
              "  /* Definition of color scheme common for light and dark mode */\n",
              "  --sklearn-color-text: #000;\n",
              "  --sklearn-color-text-muted: #666;\n",
              "  --sklearn-color-line: gray;\n",
              "  /* Definition of color scheme for unfitted estimators */\n",
              "  --sklearn-color-unfitted-level-0: #fff5e6;\n",
              "  --sklearn-color-unfitted-level-1: #f6e4d2;\n",
              "  --sklearn-color-unfitted-level-2: #ffe0b3;\n",
              "  --sklearn-color-unfitted-level-3: chocolate;\n",
              "  /* Definition of color scheme for fitted estimators */\n",
              "  --sklearn-color-fitted-level-0: #f0f8ff;\n",
              "  --sklearn-color-fitted-level-1: #d4ebff;\n",
              "  --sklearn-color-fitted-level-2: #b3dbfd;\n",
              "  --sklearn-color-fitted-level-3: cornflowerblue;\n",
              "\n",
              "  /* Specific color for light theme */\n",
              "  --sklearn-color-text-on-default-background: var(--sg-text-color, var(--theme-code-foreground, var(--jp-content-font-color1, black)));\n",
              "  --sklearn-color-background: var(--sg-background-color, var(--theme-background, var(--jp-layout-color0, white)));\n",
              "  --sklearn-color-border-box: var(--sg-text-color, var(--theme-code-foreground, var(--jp-content-font-color1, black)));\n",
              "  --sklearn-color-icon: #696969;\n",
              "\n",
              "  @media (prefers-color-scheme: dark) {\n",
              "    /* Redefinition of color scheme for dark theme */\n",
              "    --sklearn-color-text-on-default-background: var(--sg-text-color, var(--theme-code-foreground, var(--jp-content-font-color1, white)));\n",
              "    --sklearn-color-background: var(--sg-background-color, var(--theme-background, var(--jp-layout-color0, #111)));\n",
              "    --sklearn-color-border-box: var(--sg-text-color, var(--theme-code-foreground, var(--jp-content-font-color1, white)));\n",
              "    --sklearn-color-icon: #878787;\n",
              "  }\n",
              "}\n",
              "\n",
              "#sk-container-id-1 {\n",
              "  color: var(--sklearn-color-text);\n",
              "}\n",
              "\n",
              "#sk-container-id-1 pre {\n",
              "  padding: 0;\n",
              "}\n",
              "\n",
              "#sk-container-id-1 input.sk-hidden--visually {\n",
              "  border: 0;\n",
              "  clip: rect(1px 1px 1px 1px);\n",
              "  clip: rect(1px, 1px, 1px, 1px);\n",
              "  height: 1px;\n",
              "  margin: -1px;\n",
              "  overflow: hidden;\n",
              "  padding: 0;\n",
              "  position: absolute;\n",
              "  width: 1px;\n",
              "}\n",
              "\n",
              "#sk-container-id-1 div.sk-dashed-wrapped {\n",
              "  border: 1px dashed var(--sklearn-color-line);\n",
              "  margin: 0 0.4em 0.5em 0.4em;\n",
              "  box-sizing: border-box;\n",
              "  padding-bottom: 0.4em;\n",
              "  background-color: var(--sklearn-color-background);\n",
              "}\n",
              "\n",
              "#sk-container-id-1 div.sk-container {\n",
              "  /* jupyter's `normalize.less` sets `[hidden] { display: none; }`\n",
              "     but bootstrap.min.css set `[hidden] { display: none !important; }`\n",
              "     so we also need the `!important` here to be able to override the\n",
              "     default hidden behavior on the sphinx rendered scikit-learn.org.\n",
              "     See: https://github.com/scikit-learn/scikit-learn/issues/21755 */\n",
              "  display: inline-block !important;\n",
              "  position: relative;\n",
              "}\n",
              "\n",
              "#sk-container-id-1 div.sk-text-repr-fallback {\n",
              "  display: none;\n",
              "}\n",
              "\n",
              "div.sk-parallel-item,\n",
              "div.sk-serial,\n",
              "div.sk-item {\n",
              "  /* draw centered vertical line to link estimators */\n",
              "  background-image: linear-gradient(var(--sklearn-color-text-on-default-background), var(--sklearn-color-text-on-default-background));\n",
              "  background-size: 2px 100%;\n",
              "  background-repeat: no-repeat;\n",
              "  background-position: center center;\n",
              "}\n",
              "\n",
              "/* Parallel-specific style estimator block */\n",
              "\n",
              "#sk-container-id-1 div.sk-parallel-item::after {\n",
              "  content: \"\";\n",
              "  width: 100%;\n",
              "  border-bottom: 2px solid var(--sklearn-color-text-on-default-background);\n",
              "  flex-grow: 1;\n",
              "}\n",
              "\n",
              "#sk-container-id-1 div.sk-parallel {\n",
              "  display: flex;\n",
              "  align-items: stretch;\n",
              "  justify-content: center;\n",
              "  background-color: var(--sklearn-color-background);\n",
              "  position: relative;\n",
              "}\n",
              "\n",
              "#sk-container-id-1 div.sk-parallel-item {\n",
              "  display: flex;\n",
              "  flex-direction: column;\n",
              "}\n",
              "\n",
              "#sk-container-id-1 div.sk-parallel-item:first-child::after {\n",
              "  align-self: flex-end;\n",
              "  width: 50%;\n",
              "}\n",
              "\n",
              "#sk-container-id-1 div.sk-parallel-item:last-child::after {\n",
              "  align-self: flex-start;\n",
              "  width: 50%;\n",
              "}\n",
              "\n",
              "#sk-container-id-1 div.sk-parallel-item:only-child::after {\n",
              "  width: 0;\n",
              "}\n",
              "\n",
              "/* Serial-specific style estimator block */\n",
              "\n",
              "#sk-container-id-1 div.sk-serial {\n",
              "  display: flex;\n",
              "  flex-direction: column;\n",
              "  align-items: center;\n",
              "  background-color: var(--sklearn-color-background);\n",
              "  padding-right: 1em;\n",
              "  padding-left: 1em;\n",
              "}\n",
              "\n",
              "\n",
              "/* Toggleable style: style used for estimator/Pipeline/ColumnTransformer box that is\n",
              "clickable and can be expanded/collapsed.\n",
              "- Pipeline and ColumnTransformer use this feature and define the default style\n",
              "- Estimators will overwrite some part of the style using the `sk-estimator` class\n",
              "*/\n",
              "\n",
              "/* Pipeline and ColumnTransformer style (default) */\n",
              "\n",
              "#sk-container-id-1 div.sk-toggleable {\n",
              "  /* Default theme specific background. It is overwritten whether we have a\n",
              "  specific estimator or a Pipeline/ColumnTransformer */\n",
              "  background-color: var(--sklearn-color-background);\n",
              "}\n",
              "\n",
              "/* Toggleable label */\n",
              "#sk-container-id-1 label.sk-toggleable__label {\n",
              "  cursor: pointer;\n",
              "  display: flex;\n",
              "  width: 100%;\n",
              "  margin-bottom: 0;\n",
              "  padding: 0.5em;\n",
              "  box-sizing: border-box;\n",
              "  text-align: center;\n",
              "  align-items: start;\n",
              "  justify-content: space-between;\n",
              "  gap: 0.5em;\n",
              "}\n",
              "\n",
              "#sk-container-id-1 label.sk-toggleable__label .caption {\n",
              "  font-size: 0.6rem;\n",
              "  font-weight: lighter;\n",
              "  color: var(--sklearn-color-text-muted);\n",
              "}\n",
              "\n",
              "#sk-container-id-1 label.sk-toggleable__label-arrow:before {\n",
              "  /* Arrow on the left of the label */\n",
              "  content: \"▸\";\n",
              "  float: left;\n",
              "  margin-right: 0.25em;\n",
              "  color: var(--sklearn-color-icon);\n",
              "}\n",
              "\n",
              "#sk-container-id-1 label.sk-toggleable__label-arrow:hover:before {\n",
              "  color: var(--sklearn-color-text);\n",
              "}\n",
              "\n",
              "/* Toggleable content - dropdown */\n",
              "\n",
              "#sk-container-id-1 div.sk-toggleable__content {\n",
              "  max-height: 0;\n",
              "  max-width: 0;\n",
              "  overflow: hidden;\n",
              "  text-align: left;\n",
              "  /* unfitted */\n",
              "  background-color: var(--sklearn-color-unfitted-level-0);\n",
              "}\n",
              "\n",
              "#sk-container-id-1 div.sk-toggleable__content.fitted {\n",
              "  /* fitted */\n",
              "  background-color: var(--sklearn-color-fitted-level-0);\n",
              "}\n",
              "\n",
              "#sk-container-id-1 div.sk-toggleable__content pre {\n",
              "  margin: 0.2em;\n",
              "  border-radius: 0.25em;\n",
              "  color: var(--sklearn-color-text);\n",
              "  /* unfitted */\n",
              "  background-color: var(--sklearn-color-unfitted-level-0);\n",
              "}\n",
              "\n",
              "#sk-container-id-1 div.sk-toggleable__content.fitted pre {\n",
              "  /* unfitted */\n",
              "  background-color: var(--sklearn-color-fitted-level-0);\n",
              "}\n",
              "\n",
              "#sk-container-id-1 input.sk-toggleable__control:checked~div.sk-toggleable__content {\n",
              "  /* Expand drop-down */\n",
              "  max-height: 200px;\n",
              "  max-width: 100%;\n",
              "  overflow: auto;\n",
              "}\n",
              "\n",
              "#sk-container-id-1 input.sk-toggleable__control:checked~label.sk-toggleable__label-arrow:before {\n",
              "  content: \"▾\";\n",
              "}\n",
              "\n",
              "/* Pipeline/ColumnTransformer-specific style */\n",
              "\n",
              "#sk-container-id-1 div.sk-label input.sk-toggleable__control:checked~label.sk-toggleable__label {\n",
              "  color: var(--sklearn-color-text);\n",
              "  background-color: var(--sklearn-color-unfitted-level-2);\n",
              "}\n",
              "\n",
              "#sk-container-id-1 div.sk-label.fitted input.sk-toggleable__control:checked~label.sk-toggleable__label {\n",
              "  background-color: var(--sklearn-color-fitted-level-2);\n",
              "}\n",
              "\n",
              "/* Estimator-specific style */\n",
              "\n",
              "/* Colorize estimator box */\n",
              "#sk-container-id-1 div.sk-estimator input.sk-toggleable__control:checked~label.sk-toggleable__label {\n",
              "  /* unfitted */\n",
              "  background-color: var(--sklearn-color-unfitted-level-2);\n",
              "}\n",
              "\n",
              "#sk-container-id-1 div.sk-estimator.fitted input.sk-toggleable__control:checked~label.sk-toggleable__label {\n",
              "  /* fitted */\n",
              "  background-color: var(--sklearn-color-fitted-level-2);\n",
              "}\n",
              "\n",
              "#sk-container-id-1 div.sk-label label.sk-toggleable__label,\n",
              "#sk-container-id-1 div.sk-label label {\n",
              "  /* The background is the default theme color */\n",
              "  color: var(--sklearn-color-text-on-default-background);\n",
              "}\n",
              "\n",
              "/* On hover, darken the color of the background */\n",
              "#sk-container-id-1 div.sk-label:hover label.sk-toggleable__label {\n",
              "  color: var(--sklearn-color-text);\n",
              "  background-color: var(--sklearn-color-unfitted-level-2);\n",
              "}\n",
              "\n",
              "/* Label box, darken color on hover, fitted */\n",
              "#sk-container-id-1 div.sk-label.fitted:hover label.sk-toggleable__label.fitted {\n",
              "  color: var(--sklearn-color-text);\n",
              "  background-color: var(--sklearn-color-fitted-level-2);\n",
              "}\n",
              "\n",
              "/* Estimator label */\n",
              "\n",
              "#sk-container-id-1 div.sk-label label {\n",
              "  font-family: monospace;\n",
              "  font-weight: bold;\n",
              "  display: inline-block;\n",
              "  line-height: 1.2em;\n",
              "}\n",
              "\n",
              "#sk-container-id-1 div.sk-label-container {\n",
              "  text-align: center;\n",
              "}\n",
              "\n",
              "/* Estimator-specific */\n",
              "#sk-container-id-1 div.sk-estimator {\n",
              "  font-family: monospace;\n",
              "  border: 1px dotted var(--sklearn-color-border-box);\n",
              "  border-radius: 0.25em;\n",
              "  box-sizing: border-box;\n",
              "  margin-bottom: 0.5em;\n",
              "  /* unfitted */\n",
              "  background-color: var(--sklearn-color-unfitted-level-0);\n",
              "}\n",
              "\n",
              "#sk-container-id-1 div.sk-estimator.fitted {\n",
              "  /* fitted */\n",
              "  background-color: var(--sklearn-color-fitted-level-0);\n",
              "}\n",
              "\n",
              "/* on hover */\n",
              "#sk-container-id-1 div.sk-estimator:hover {\n",
              "  /* unfitted */\n",
              "  background-color: var(--sklearn-color-unfitted-level-2);\n",
              "}\n",
              "\n",
              "#sk-container-id-1 div.sk-estimator.fitted:hover {\n",
              "  /* fitted */\n",
              "  background-color: var(--sklearn-color-fitted-level-2);\n",
              "}\n",
              "\n",
              "/* Specification for estimator info (e.g. \"i\" and \"?\") */\n",
              "\n",
              "/* Common style for \"i\" and \"?\" */\n",
              "\n",
              ".sk-estimator-doc-link,\n",
              "a:link.sk-estimator-doc-link,\n",
              "a:visited.sk-estimator-doc-link {\n",
              "  float: right;\n",
              "  font-size: smaller;\n",
              "  line-height: 1em;\n",
              "  font-family: monospace;\n",
              "  background-color: var(--sklearn-color-background);\n",
              "  border-radius: 1em;\n",
              "  height: 1em;\n",
              "  width: 1em;\n",
              "  text-decoration: none !important;\n",
              "  margin-left: 0.5em;\n",
              "  text-align: center;\n",
              "  /* unfitted */\n",
              "  border: var(--sklearn-color-unfitted-level-1) 1pt solid;\n",
              "  color: var(--sklearn-color-unfitted-level-1);\n",
              "}\n",
              "\n",
              ".sk-estimator-doc-link.fitted,\n",
              "a:link.sk-estimator-doc-link.fitted,\n",
              "a:visited.sk-estimator-doc-link.fitted {\n",
              "  /* fitted */\n",
              "  border: var(--sklearn-color-fitted-level-1) 1pt solid;\n",
              "  color: var(--sklearn-color-fitted-level-1);\n",
              "}\n",
              "\n",
              "/* On hover */\n",
              "div.sk-estimator:hover .sk-estimator-doc-link:hover,\n",
              ".sk-estimator-doc-link:hover,\n",
              "div.sk-label-container:hover .sk-estimator-doc-link:hover,\n",
              ".sk-estimator-doc-link:hover {\n",
              "  /* unfitted */\n",
              "  background-color: var(--sklearn-color-unfitted-level-3);\n",
              "  color: var(--sklearn-color-background);\n",
              "  text-decoration: none;\n",
              "}\n",
              "\n",
              "div.sk-estimator.fitted:hover .sk-estimator-doc-link.fitted:hover,\n",
              ".sk-estimator-doc-link.fitted:hover,\n",
              "div.sk-label-container:hover .sk-estimator-doc-link.fitted:hover,\n",
              ".sk-estimator-doc-link.fitted:hover {\n",
              "  /* fitted */\n",
              "  background-color: var(--sklearn-color-fitted-level-3);\n",
              "  color: var(--sklearn-color-background);\n",
              "  text-decoration: none;\n",
              "}\n",
              "\n",
              "/* Span, style for the box shown on hovering the info icon */\n",
              ".sk-estimator-doc-link span {\n",
              "  display: none;\n",
              "  z-index: 9999;\n",
              "  position: relative;\n",
              "  font-weight: normal;\n",
              "  right: .2ex;\n",
              "  padding: .5ex;\n",
              "  margin: .5ex;\n",
              "  width: min-content;\n",
              "  min-width: 20ex;\n",
              "  max-width: 50ex;\n",
              "  color: var(--sklearn-color-text);\n",
              "  box-shadow: 2pt 2pt 4pt #999;\n",
              "  /* unfitted */\n",
              "  background: var(--sklearn-color-unfitted-level-0);\n",
              "  border: .5pt solid var(--sklearn-color-unfitted-level-3);\n",
              "}\n",
              "\n",
              ".sk-estimator-doc-link.fitted span {\n",
              "  /* fitted */\n",
              "  background: var(--sklearn-color-fitted-level-0);\n",
              "  border: var(--sklearn-color-fitted-level-3);\n",
              "}\n",
              "\n",
              ".sk-estimator-doc-link:hover span {\n",
              "  display: block;\n",
              "}\n",
              "\n",
              "/* \"?\"-specific style due to the `<a>` HTML tag */\n",
              "\n",
              "#sk-container-id-1 a.estimator_doc_link {\n",
              "  float: right;\n",
              "  font-size: 1rem;\n",
              "  line-height: 1em;\n",
              "  font-family: monospace;\n",
              "  background-color: var(--sklearn-color-background);\n",
              "  border-radius: 1rem;\n",
              "  height: 1rem;\n",
              "  width: 1rem;\n",
              "  text-decoration: none;\n",
              "  /* unfitted */\n",
              "  color: var(--sklearn-color-unfitted-level-1);\n",
              "  border: var(--sklearn-color-unfitted-level-1) 1pt solid;\n",
              "}\n",
              "\n",
              "#sk-container-id-1 a.estimator_doc_link.fitted {\n",
              "  /* fitted */\n",
              "  border: var(--sklearn-color-fitted-level-1) 1pt solid;\n",
              "  color: var(--sklearn-color-fitted-level-1);\n",
              "}\n",
              "\n",
              "/* On hover */\n",
              "#sk-container-id-1 a.estimator_doc_link:hover {\n",
              "  /* unfitted */\n",
              "  background-color: var(--sklearn-color-unfitted-level-3);\n",
              "  color: var(--sklearn-color-background);\n",
              "  text-decoration: none;\n",
              "}\n",
              "\n",
              "#sk-container-id-1 a.estimator_doc_link.fitted:hover {\n",
              "  /* fitted */\n",
              "  background-color: var(--sklearn-color-fitted-level-3);\n",
              "}\n",
              "</style><div id=\"sk-container-id-1\" class=\"sk-top-container\"><div class=\"sk-text-repr-fallback\"><pre>RandomForestClassifier(random_state=42)</pre><b>In a Jupyter environment, please rerun this cell to show the HTML representation or trust the notebook. <br />On GitHub, the HTML representation is unable to render, please try loading this page with nbviewer.org.</b></div><div class=\"sk-container\" hidden><div class=\"sk-item\"><div class=\"sk-estimator fitted sk-toggleable\"><input class=\"sk-toggleable__control sk-hidden--visually\" id=\"sk-estimator-id-1\" type=\"checkbox\" checked><label for=\"sk-estimator-id-1\" class=\"sk-toggleable__label fitted sk-toggleable__label-arrow\"><div><div>RandomForestClassifier</div></div><div><a class=\"sk-estimator-doc-link fitted\" rel=\"noreferrer\" target=\"_blank\" href=\"https://scikit-learn.org/1.6/modules/generated/sklearn.ensemble.RandomForestClassifier.html\">?<span>Documentation for RandomForestClassifier</span></a><span class=\"sk-estimator-doc-link fitted\">i<span>Fitted</span></span></div></label><div class=\"sk-toggleable__content fitted\"><pre>RandomForestClassifier(random_state=42)</pre></div> </div></div></div></div>"
            ]
          },
          "metadata": {},
          "execution_count": 7
        }
      ]
    },
    {
      "cell_type": "markdown",
      "source": [
        "## 4. Avaliação do Modelo\n",
        "\n",
        "Agora, vamos avaliar o desempenho do modelo com os dados de teste.\n",
        "\n",
        "Isso permite verificar se o modelo está fazendo previsões adequadas para os rankings de risco de novos beneficiários."
      ],
      "metadata": {
        "id": "KHk9fQZHzC0N"
      }
    },
    {
      "cell_type": "code",
      "source": [
        "# Realizando predições e avaliando o modelo\n",
        "y_pred = model.predict(X_test)\n",
        "print(\"Relatório de Classificação:\\n\", classification_report(y_test, y_pred))"
      ],
      "metadata": {
        "colab": {
          "base_uri": "https://localhost:8080/"
        },
        "id": "edmxEEK3sRF_",
        "outputId": "8f337e47-8524-4d9b-dff9-68e0fafd2a7a"
      },
      "execution_count": null,
      "outputs": [
        {
          "output_type": "stream",
          "name": "stdout",
          "text": [
            "Relatório de Classificação:\n",
            "               precision    recall  f1-score   support\n",
            "\n",
            "           0       1.00      1.00      1.00         2\n",
            "           1       1.00      1.00      1.00         4\n",
            "           2       1.00      1.00      1.00         2\n",
            "           3       1.00      1.00      1.00         3\n",
            "           4       1.00      1.00      1.00         2\n",
            "           5       1.00      1.00      1.00         4\n",
            "           6       1.00      1.00      1.00         4\n",
            "\n",
            "    accuracy                           1.00        21\n",
            "   macro avg       1.00      1.00      1.00        21\n",
            "weighted avg       1.00      1.00      1.00        21\n",
            "\n"
          ]
        }
      ]
    },
    {
      "cell_type": "markdown",
      "source": [
        "### Matriz de Confusão"
      ],
      "metadata": {
        "id": "d8Ek-yusfBc_"
      }
    },
    {
      "cell_type": "code",
      "source": [
        "cm = confusion_matrix(y_test, y_pred)\n",
        "plt.figure(figsize=(8,6))\n",
        "sns.heatmap(cm, annot=True, fmt='d', cmap='Blues',\n",
        "            xticklabels=sorted(df['ranking'].unique()),\n",
        "            yticklabels=sorted(df['ranking'].unique()))\n",
        "plt.title(\"Matriz de Confusão\")\n",
        "plt.xlabel(\"Predito\")\n",
        "plt.ylabel(\"Real\")\n",
        "plt.show()"
      ],
      "metadata": {
        "colab": {
          "base_uri": "https://localhost:8080/",
          "height": 564
        },
        "id": "M6rgd6CmfE95",
        "outputId": "213887a0-edce-4b1f-abdc-db81ba8caa8b"
      },
      "execution_count": null,
      "outputs": [
        {
          "output_type": "display_data",
          "data": {
            "text/plain": [
              "<Figure size 800x600 with 2 Axes>"
            ],
            "image/png": "[encoded data removed]"
          },
          "metadata": {}
        }
      ]
    },
    {
      "cell_type": "markdown",
      "source": [
        "### Importância das Features"
      ],
      "metadata": {
        "id": "sOPRzIXgfGwj"
      }
    },
    {
      "cell_type": "code",
      "source": [
        "importances = model.feature_importances_\n",
        "features = X.columns\n",
        "plt.figure(figsize=(10,6))\n",
        "sns.barplot(x=importances, y=features, palette=\"viridis\")\n",
        "plt.title(\"Importância das Features\")\n",
        "plt.xlabel(\"Importância\")\n",
        "plt.ylabel(\"Variáveis\")\n",
        "plt.show()"
      ],
      "metadata": {
        "colab": {
          "base_uri": "https://localhost:8080/",
          "height": 652
        },
        "id": "rh5dWr8zfQOQ",
        "outputId": "e7428087-a113-480f-d06d-cf6bdc08e9ec"
      },
      "execution_count": null,
      "outputs": [
        {
          "output_type": "stream",
          "name": "stderr",
          "text": [
            "<ipython-input-10-e021e0d0d5a8>:4: FutureWarning: \n",
            "\n",
            "Passing `palette` without assigning `hue` is deprecated and will be removed in v0.14.0. Assign the `y` variable to `hue` and set `legend=False` for the same effect.\n",
            "\n",
            "  sns.barplot(x=importances, y=features, palette=\"viridis\")\n"
          ]
        },
        {
          "output_type": "display_data",
          "data": {
            "text/plain": [
              "<Figure size 1000x600 with 1 Axes>"
            ],
            "image/png": "[encoded data removed]"
          },
          "metadata": {}
        }
      ]
    },
    {
      "cell_type": "markdown",
      "source": [
        "## Exemplos de Predição para Novos Beneficiários\n",
        "\n",
        "Vamos agora simular dois novos beneficiário (um de baixo e outro de alto risco) com características diferentes,\n",
        "como idade e número de sinistros, para predizer seu ranking de risco."
      ],
      "metadata": {
        "id": "K6xq6c8B1qeD"
      }
    },
    {
      "cell_type": "code",
      "source": [
        "# Exemplo de nova entrada para prever o ranking de um usuário de alto risco\n",
        "beneficiario_alto_risco = [[1, 100.00, 65, 5, 1700.00, 8, 10]]  # Exemplo fictício\n",
        "ranking_predito = model.predict(beneficiario_alto_risco)\n",
        "print(\"Ranking previsto para o novo beneficiário:\", label_encoder.inverse_transform(ranking_predito))"
      ],
      "metadata": {
        "colab": {
          "base_uri": "https://localhost:8080/"
        },
        "id": "IvZ8jjnmsTho",
        "outputId": "aaeb66d6-56aa-4716-e4ae-2d5669539922"
      },
      "execution_count": null,
      "outputs": [
        {
          "output_type": "stream",
          "name": "stdout",
          "text": [
            "Ranking previsto para o novo beneficiário: ['F']\n"
          ]
        },
        {
          "output_type": "stream",
          "name": "stderr",
          "text": [
            "/usr/local/lib/python3.11/dist-packages/sklearn/utils/validation.py:2739: UserWarning: X does not have valid feature names, but RandomForestClassifier was fitted with feature names\n",
            "  warnings.warn(\n"
          ]
        }
      ]
    },
    {
      "cell_type": "markdown",
      "source": [
        "Funcionou! O beneficiário de **ALTO** risco foi classificado como \"F\" pelo nosso modelo de predição! 😀"
      ],
      "metadata": {
        "id": "xmFyIXtSzwbQ"
      }
    },
    {
      "cell_type": "code",
      "source": [
        "# Exemplo de nova entrada para prever o ranking de um usuário de baixo risco\n",
        "beneficiario_baixo_risco = [[2, 250.00, 15, 0, 0.00, 1, 1]]  # Exemplo fictício\n",
        "ranking_predito = model.predict(beneficiario_baixo_risco)\n",
        "print(\"Ranking previsto para o novo beneficiário:\", label_encoder.inverse_transform(ranking_predito))"
      ],
      "metadata": {
        "colab": {
          "base_uri": "https://localhost:8080/"
        },
        "id": "58BpzKdwtHvJ",
        "outputId": "71114919-7f95-411f-b02d-5a9ea5eb8fa6"
      },
      "execution_count": null,
      "outputs": [
        {
          "output_type": "stream",
          "name": "stdout",
          "text": [
            "Ranking previsto para o novo beneficiário: ['S']\n"
          ]
        },
        {
          "output_type": "stream",
          "name": "stderr",
          "text": [
            "/usr/local/lib/python3.11/dist-packages/sklearn/utils/validation.py:2739: UserWarning: X does not have valid feature names, but RandomForestClassifier was fitted with feature names\n",
            "  warnings.warn(\n"
          ]
        }
      ]
    },
    {
      "cell_type": "markdown",
      "source": [
        "Também funcionou! O beneficiário de **BAIXO** risco foi classificado como \"S\" pelo nosso modelo de predição! 😀\n",
        "\n",
        "Para finalizar, vamos tentar prever um usuário de **MÉDIO RISCO**:"
      ],
      "metadata": {
        "id": "w2MiEExLz9nw"
      }
    },
    {
      "cell_type": "code",
      "source": [
        "# Exemplo de nova entrada para prever o ranking de um usuário de médio risco\n",
        "beneficiario_medio_risco = [[2, 100.00, 27, 2, 450.00, 2, 2]]  # Exemplo fictício\n",
        "ranking_predito = model.predict(beneficiario_medio_risco)\n",
        "print(\"Ranking previsto para o novo beneficiário:\", label_encoder.inverse_transform(ranking_predito))"
      ],
      "metadata": {
        "colab": {
          "base_uri": "https://localhost:8080/"
        },
        "id": "r9HIrs-O829X",
        "outputId": "66b8cbd6-82f3-46db-f1ee-1a54722f8fc2"
      },
      "execution_count": null,
      "outputs": [
        {
          "output_type": "stream",
          "name": "stdout",
          "text": [
            "Ranking previsto para o novo beneficiário: ['C']\n"
          ]
        },
        {
          "output_type": "stream",
          "name": "stderr",
          "text": [
            "/usr/local/lib/python3.11/dist-packages/sklearn/utils/validation.py:2739: UserWarning: X does not have valid feature names, but RandomForestClassifier was fitted with feature names\n",
            "  warnings.warn(\n"
          ]
        }
      ]
    },
    {
      "cell_type": "markdown",
      "source": [
        "Tudo certo! Ele conseguiu prever corretamente os 3 tipos de entrada! 😊"
      ],
      "metadata": {
        "id": "WVpvHw6G9an1"
      }
    },
    {
      "cell_type": "markdown",
      "source": [
        "## Salvando o Modelo e o Encoder para Integração via API"
      ],
      "metadata": {
        "id": "yNFTpJ6bfZVN"
      }
    },
    {
      "cell_type": "code",
      "source": [
        "with open(\"modelo.pkl\", \"wb\") as f:\n",
        "    pickle.dump(model, f)\n",
        "with open(\"encoder.pkl\", \"wb\") as f:\n",
        "    pickle.dump(label_encoder, f)\n"
      ],
      "metadata": {
        "id": "mCgh_QtxfaHe"
      },
      "execution_count": null,
      "outputs": []
    },
    {
      "cell_type": "markdown",
      "source": [
        "# Exemplo de Código para API com Flask (NÃO EXECUTÁVEL NO NOTEBOOK):\n"
      ],
      "metadata": {
        "id": "u0HJQF16fel5"
      }
    },
    {
      "cell_type": "code",
      "source": [
        "from flask import Flask, request, jsonify\n",
        "import pandas as pd\n",
        "import pickle\n",
        "\n",
        "app = Flask(__name__)\n",
        "\n",
        "# Carregar o modelo e o encoder salvos\n",
        "model = pickle.load(open(\"modelo.pkl\", \"rb\"))\n",
        "encoder = pickle.load(open(\"encoder.pkl\", \"rb\"))\n",
        "\n",
        "@app.route('/predict', methods=['POST'])\n",
        "def predict():\n",
        "    # Espera um JSON com as chaves: tipo_plano, valor_mensal, idade, num_sinistros,\n",
        "    # valor_total_sinistros, num_consultas, num_exames\n",
        "    data = request.get_json(force=True)\n",
        "    df_input = pd.DataFrame([data])\n",
        "    # Converter 'tipo_plano' utilizando o encoder\n",
        "    df_input['tipo_plano'] = encoder.transform(df_input['tipo_plano'])\n",
        "    prediction = model.predict(df_input)\n",
        "    ranking = encoder.inverse_transform(prediction)\n",
        "    return jsonify({\"ranking\": ranking[0]})\n",
        "\n",
        "if __name__ == '__main__':\n",
        "    app.run(debug=True)"
      ],
      "metadata": {
        "colab": {
          "base_uri": "https://localhost:8080/"
        },
        "id": "ROvdPZwpflr9",
        "outputId": "5d85b004-93ce-4867-87bc-965d5f9bab62"
      },
      "execution_count": null,
      "outputs": [
        {
          "output_type": "stream",
          "name": "stdout",
          "text": [
            " * Serving Flask app '__main__'\n",
            " * Debug mode: on\n"
          ]
        },
        {
          "output_type": "stream",
          "name": "stderr",
          "text": [
            "INFO:werkzeug:\u001b[31m\u001b[1mWARNING: This is a development server. Do not use it in a production deployment. Use a production WSGI server instead.\u001b[0m\n",
            " * Running on http://127.0.0.1:5000\n",
            "INFO:werkzeug:\u001b[33mPress CTRL+C to quit\u001b[0m\n",
            "INFO:werkzeug: * Restarting with stat\n"
          ]
        }
      ]
    }
  ]
}